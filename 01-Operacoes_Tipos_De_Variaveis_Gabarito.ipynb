{
 "cells": [
  {
   "cell_type": "markdown",
   "metadata": {},
   "source": [
    "## Operações básicas e tipos dados e variáveis"
   ]
  },
  {
   "cell_type": "markdown",
   "metadata": {},
   "source": [
    "### Tipos de dados e variáveis"
   ]
  },
  {
   "cell_type": "markdown",
   "metadata": {},
   "source": [
    "Um dos recursos mais eficientes de uma linguagem de programação é a manipulação de variáveis. Variáveis são espaços reservados na memória para armazenar dados que serão utilizados durante a execução de um programa. Podem ter valores de diversos tamanhos e tipos, como números inteiros, reais, complexos, caracteres ou até mesmo longas frases.\n",
    "\n",
    "Em Python, existem 5 tipos de variáveis:\n",
    "\n",
    "\n",
    "* Numéricas\n",
    "\n",
    "\n",
    "    * Inteiros (int)\n",
    "    * Pontos Flutuantes (float)\n",
    "    * Complexos (complex)\n",
    "    * Booleanos (bool)\n",
    "    \n",
    "\n",
    "* Categóricas\n",
    "\n",
    "\n",
    "    * Strings (str)"
   ]
  },
  {
   "cell_type": "markdown",
   "metadata": {},
   "source": [
    "A atribuição de um valor a uma variável é feito através do sinal \"=\", e por isso não é necessário declarar uma variável juntamente ao seu tipo e/ou tamanho como é comum a outras linguagens de programação."
   ]
  },
  {
   "cell_type": "markdown",
   "metadata": {},
   "source": [
    "#### Inteiros"
   ]
  },
  {
   "cell_type": "code",
   "execution_count": 5,
   "metadata": {},
   "outputs": [
    {
     "name": "stdout",
     "output_type": "stream",
     "text": [
      "42 , <class 'int'>\n"
     ]
    }
   ],
   "source": [
    "a = 42\n",
    "print(a,',', type(a))"
   ]
  },
  {
   "cell_type": "code",
   "execution_count": 7,
   "metadata": {},
   "outputs": [],
   "source": [
    "variavel2 = 10"
   ]
  },
  {
   "cell_type": "code",
   "execution_count": 8,
   "metadata": {},
   "outputs": [
    {
     "ename": "SyntaxError",
     "evalue": "invalid syntax (<ipython-input-8-f21bb5d4beae>, line 1)",
     "output_type": "error",
     "traceback": [
      "\u001b[1;36m  File \u001b[1;32m\"<ipython-input-8-f21bb5d4beae>\"\u001b[1;36m, line \u001b[1;32m1\u001b[0m\n\u001b[1;33m    variavel! = 50\u001b[0m\n\u001b[1;37m            ^\u001b[0m\n\u001b[1;31mSyntaxError\u001b[0m\u001b[1;31m:\u001b[0m invalid syntax\n"
     ]
    }
   ],
   "source": [
    "variavel! = 50"
   ]
  },
  {
   "cell_type": "code",
   "execution_count": 9,
   "metadata": {},
   "outputs": [
    {
     "ename": "SyntaxError",
     "evalue": "cannot assign to literal (<ipython-input-9-7f5d0945a375>, line 1)",
     "output_type": "error",
     "traceback": [
      "\u001b[1;36m  File \u001b[1;32m\"<ipython-input-9-7f5d0945a375>\"\u001b[1;36m, line \u001b[1;32m1\u001b[0m\n\u001b[1;33m    50 = a\u001b[0m\n\u001b[1;37m    ^\u001b[0m\n\u001b[1;31mSyntaxError\u001b[0m\u001b[1;31m:\u001b[0m cannot assign to literal\n"
     ]
    }
   ],
   "source": [
    "50 = a"
   ]
  },
  {
   "cell_type": "markdown",
   "metadata": {},
   "source": [
    "O nome de uma variável pode conter letras, minúsculas ou maiúsculas, e números. Entretanto, não deve iniciar com um número e tampouco conter um caractere especial como \"!\", \"@\" ou \"&\".\n",
    "\n",
    "É possível usar \"_\" (underline) no nome de uma variável."
   ]
  },
  {
   "cell_type": "markdown",
   "metadata": {},
   "source": [
    "#### Pontos Flutuantes"
   ]
  },
  {
   "cell_type": "code",
   "execution_count": 10,
   "metadata": {},
   "outputs": [
    {
     "name": "stdout",
     "output_type": "stream",
     "text": [
      "3.1415 , <class 'float'>\n"
     ]
    }
   ],
   "source": [
    "pi = 3.1415\n",
    "print(pi,',', type(pi))"
   ]
  },
  {
   "cell_type": "markdown",
   "metadata": {},
   "source": [
    "#### Booleanos"
   ]
  },
  {
   "cell_type": "code",
   "execution_count": 11,
   "metadata": {},
   "outputs": [
    {
     "name": "stdout",
     "output_type": "stream",
     "text": [
      "True , <class 'bool'>\n"
     ]
    }
   ],
   "source": [
    "flag1 = True\n",
    "print(flag1,',', type(flag1))"
   ]
  },
  {
   "cell_type": "code",
   "execution_count": 12,
   "metadata": {},
   "outputs": [
    {
     "name": "stdout",
     "output_type": "stream",
     "text": [
      "False True\n"
     ]
    }
   ],
   "source": [
    "flag1 = False\n",
    "Flag1 = True\n",
    "print(flag1, Flag1)"
   ]
  },
  {
   "cell_type": "markdown",
   "metadata": {},
   "source": [
    "#### Complexos"
   ]
  },
  {
   "cell_type": "markdown",
   "metadata": {},
   "source": [
    "As variáveis do tipo complexo exigem que sejam declaradas a sua parte real e imaginária. A unidade imaginária é denotada por \"**j**\"."
   ]
  },
  {
   "cell_type": "code",
   "execution_count": 13,
   "metadata": {},
   "outputs": [
    {
     "name": "stdout",
     "output_type": "stream",
     "text": [
      "(3+4j) , <class 'complex'>\n",
      "(-8+5j) , <class 'complex'>\n"
     ]
    }
   ],
   "source": [
    "z_1 = 3 + 4j\n",
    "z_2 = 5j - 8\n",
    "print(z_1, ',', type(z_1))\n",
    "print(z_2, ',', type(z_2))"
   ]
  },
  {
   "cell_type": "markdown",
   "metadata": {},
   "source": [
    "É possível verificar qual o valor da parte real ou imaginária de uma variável complexa."
   ]
  },
  {
   "cell_type": "code",
   "execution_count": 14,
   "metadata": {},
   "outputs": [
    {
     "name": "stdout",
     "output_type": "stream",
     "text": [
      "A parte real é: 3.0\n",
      "A parte imaginária é: 4.0\n"
     ]
    }
   ],
   "source": [
    "print('A parte real é:',z_1.real)\n",
    "print('A parte imaginária é:',z_1.imag)"
   ]
  },
  {
   "cell_type": "markdown",
   "metadata": {},
   "source": [
    "#### Strings"
   ]
  },
  {
   "cell_type": "code",
   "execution_count": 15,
   "metadata": {},
   "outputs": [
    {
     "name": "stdout",
     "output_type": "stream",
     "text": [
      "Este é um caso especial, abordaremos com mais detalhes adiante. , <class 'str'>\n"
     ]
    }
   ],
   "source": [
    "texto = 'Este é um caso especial, abordaremos com mais detalhes adiante.'\n",
    "print(texto,',',type(texto))"
   ]
  },
  {
   "cell_type": "markdown",
   "metadata": {},
   "source": [
    "O Python possui palavras-chave. O interpretador utiliza essas palavras para reconhecer a estrutura do programa e executar as devidas operações. Por isso estas palavras chave **não** podem ser utilizadas como nome de uma variável, seja ela categórica ou numérica. Atribuir valores a estas palavras-chave irá gerar um erro no código.\n",
    "\n",
    "<style type=\"text/css\">\n",
    ".tg  {border-collapse:collapse;border-spacing:0;}\n",
    ".tg td{border-color:black;border-style:solid;border-width:1px;font-family:Arial, sans-serif;font-size:14px;\n",
    "  overflow:hidden;padding:10px 5px;word-break:normal;}\n",
    ".tg th{border-color:black;border-style:solid;border-width:1px;font-family:Arial, sans-serif;font-size:14px;\n",
    "  font-weight:normal;overflow:hidden;padding:10px 5px;word-break:normal;}\n",
    ".tg .tg-0pky{border-color:inherit;text-align:left;vertical-align:top}\n",
    "</style>\n",
    "<table class=\"tg\" style=\"undefined;table-layout: fixed; width: 288px\">\n",
    "<colgroup>\n",
    "<col style=\"width: 61.002976px\">\n",
    "<col style=\"width: 55.002976px\">\n",
    "<col style=\"width: 59.002976px\">\n",
    "<col style=\"width: 64.00297599999999px\">\n",
    "<col style=\"width: 49.002976px\">\n",
    "</colgroup>\n",
    "<tbody>\n",
    "  <tr>\n",
    "    <td class=\"tg-0pky\">and</td>\n",
    "    <td class=\"tg-0pky\">del</td>\n",
    "    <td class=\"tg-0pky\">from</td>\n",
    "    <td class=\"tg-0pky\">None</td>\n",
    "    <td class=\"tg-0pky\">True</td>\n",
    "  </tr>\n",
    "</tbody>\n",
    "<tbody>\n",
    "  <tr>\n",
    "    <td class=\"tg-0pky\">as</td>\n",
    "    <td class=\"tg-0pky\">elif </td>\n",
    "    <td class=\"tg-0pky\">global</td>\n",
    "    <td class=\"tg-0pky\">nonlocal</td>\n",
    "    <td class=\"tg-0pky\">try</td>\n",
    "  </tr>\n",
    "  <tr>\n",
    "    <td class=\"tg-0pky\">assert</td>\n",
    "    <td class=\"tg-0pky\">else</td>\n",
    "    <td class=\"tg-0pky\">if</td>\n",
    "    <td class=\"tg-0pky\">not</td>\n",
    "    <td class=\"tg-0pky\">while</td>\n",
    "  </tr>\n",
    "  <tr>\n",
    "    <td class=\"tg-0pky\">break </td>\n",
    "    <td class=\"tg-0pky\">except</td>\n",
    "    <td class=\"tg-0pky\">import</td>\n",
    "    <td class=\"tg-0pky\">or </td>\n",
    "    <td class=\"tg-0pky\">with</td>\n",
    "  </tr>\n",
    "  <tr>\n",
    "    <td class=\"tg-0pky\">class</td>\n",
    "    <td class=\"tg-0pky\">False</td>\n",
    "    <td class=\"tg-0pky\">in</td>\n",
    "    <td class=\"tg-0pky\">pass</td>\n",
    "    <td class=\"tg-0pky\">yield</td>\n",
    "  </tr>\n",
    "  <tr>\n",
    "    <td class=\"tg-0pky\">continue</td>\n",
    "    <td class=\"tg-0pky\">finally</td>\n",
    "    <td class=\"tg-0pky\">is</td>\n",
    "    <td class=\"tg-0pky\">raise</td>\n",
    "    <td class=\"tg-0pky\"></td>\n",
    "  </tr>\n",
    "  <tr>\n",
    "    <td class=\"tg-0pky\">def</td>\n",
    "    <td class=\"tg-0pky\">for </td>\n",
    "    <td class=\"tg-0pky\">lambda</td>\n",
    "    <td class=\"tg-0pky\">return</td>\n",
    "    <td class=\"tg-0pky\"></td>\n",
    "  </tr>\n",
    "</tbody>\n",
    "</table>"
   ]
  },
  {
   "cell_type": "code",
   "execution_count": 16,
   "metadata": {},
   "outputs": [
    {
     "ename": "SyntaxError",
     "evalue": "invalid syntax (<ipython-input-16-b18ed6c5ce4f>, line 1)",
     "output_type": "error",
     "traceback": [
      "\u001b[1;36m  File \u001b[1;32m\"<ipython-input-16-b18ed6c5ce4f>\"\u001b[1;36m, line \u001b[1;32m1\u001b[0m\n\u001b[1;33m    else = 20\u001b[0m\n\u001b[1;37m    ^\u001b[0m\n\u001b[1;31mSyntaxError\u001b[0m\u001b[1;31m:\u001b[0m invalid syntax\n"
     ]
    }
   ],
   "source": [
    "else = 20"
   ]
  },
  {
   "attachments": {
    "image.png": {
     "image/png": "[encoded data removed]"
    }
   },
   "cell_type": "markdown",
   "metadata": {},
   "source": [
    "Uma forma comum de representar variáveis por escrito é colocar o nome com uma flecha apontando para o seu valor. Este tipo de número é chamado de diagrama de estado porque mostra o estado no qual cada uma das variáveis está (pense nele como o estado de espírito da variável). A Figura 2.1 mostra o resultado do exemplo anterior.\n",
    "\n",
    "![image.png](attachment:image.png)"
   ]
  },
  {
   "cell_type": "markdown",
   "metadata": {},
   "source": [
    "### Operações básicas"
   ]
  },
  {
   "cell_type": "markdown",
   "metadata": {},
   "source": [
    "Na linguagem de programação Python é comum utilizar artifícios matemáticos. As operações matemáticas básicas e seus respectivos operadores estão listados abaixo.\n",
    "\n",
    "Operador | Função\n",
    " :--- | :---\n",
    "a + b | adição\n",
    "a - b | subtração\n",
    "a * b | multiplicação\n",
    "a / b | divisão\n",
    "a ** b | exponenciação\n",
    "       |\n",
    "a // b | divisão inteira\n",
    "a % b | resto da divisão inteira\n",
    "divmod(a, b) | retorna (a // b, x % y)\n",
    "abs(a) | módulo de a\n",
    "round(a[, n]) | arredonda número a n casas decimais"
   ]
  },
  {
   "cell_type": "markdown",
   "metadata": {},
   "source": [
    "Quando uma expressão contém mais de um operador, a ordem da avaliação depende da ordem das operações. Para operadores matemáticos, o Python segue a convenção matemática. O acrônimo PEMDAS pode ser útil para lembrar das regras:\n",
    "\n",
    "* Os Parênteses têm a precedência mais alta e podem ser usados para forçar a avaliação de uma expressão na ordem que você quiser. Também é possível usar parênteses para facilitar a leitura de uma expressão, como no caso de (minute * 100) / 60, mesmo se o resultado não for alterado.\n",
    "\n",
    "* A Exponenciação tem a próxima precedência mais alta, então 1 + 2**3 é 9, não 27.\n",
    "\n",
    "* A Multiplicação e a Divisão têm precedência mais alta que a Adição e a Subtração. Assim, 2 * 3 - 1 é 5, não 4, e 6 + 4 / 2 é 8, não 5.\n",
    "\n",
    "* Os operadores com a mesma precedência são avaliados da esquerda para a direita (exceto na exponenciação). Assim, na expressão degrees / 2 * π, a divisão acontece primeiro e o resultado é multiplicado por π. Para dividir por 2π, você pode usar parênteses ou escrever degrees / 2 / π.\n",
    "\n"
   ]
  },
  {
   "cell_type": "markdown",
   "metadata": {},
   "source": [
    "#### Exercício\n",
    "\n",
    "1 - Aproximando a Terra por uma esfera perfeita de raio igual a 6371 km, calcule a área aproximada da sua superfície com duas casas decimais, em m².\n",
    "\n",
    "***$A_{se} = 4 \\pi r^2$***"
   ]
  },
  {
   "cell_type": "code",
   "execution_count": 17,
   "metadata": {},
   "outputs": [
    {
     "name": "stdout",
     "output_type": "stream",
     "text": [
      "509805890960000.0\n"
     ]
    }
   ],
   "source": [
    "a = 4*3.14*(6371*1e3)**2\n",
    "print(a)"
   ]
  },
  {
   "cell_type": "markdown",
   "metadata": {},
   "source": [
    "2 - Quantos segundos há em 42 minutos e 42 segundos?"
   ]
  },
  {
   "cell_type": "code",
   "execution_count": 19,
   "metadata": {},
   "outputs": [
    {
     "data": {
      "text/plain": [
       "2562"
      ]
     },
     "execution_count": 19,
     "metadata": {},
     "output_type": "execute_result"
    }
   ],
   "source": [
    "t = 42*60+42\n",
    "t"
   ]
  },
  {
   "cell_type": "markdown",
   "metadata": {},
   "source": [
    "3 - Quantas milhas há em 15 quilômetros?"
   ]
  },
  {
   "cell_type": "code",
   "execution_count": null,
   "metadata": {},
   "outputs": [],
   "source": [
    "e = 15*0.621371\n",
    "print(e)"
   ]
  },
  {
   "cell_type": "markdown",
   "metadata": {},
   "source": [
    "4 - Se você correr por 15 quilômetros em 42 minutos e 42 segundos, qual a sua velocidade média?"
   ]
  },
  {
   "cell_type": "code",
   "execution_count": 20,
   "metadata": {},
   "outputs": [
    {
     "name": "stdout",
     "output_type": "stream",
     "text": [
      "58.55\n"
     ]
    }
   ],
   "source": [
    "v_media = (15*10e3)/(42*60 + 42)\n",
    "print(f'{v_media :.2f}')"
   ]
  },
  {
   "cell_type": "code",
   "execution_count": 21,
   "metadata": {},
   "outputs": [
    {
     "data": {
      "text/plain": [
       "58.5480093676815"
      ]
     },
     "execution_count": 21,
     "metadata": {},
     "output_type": "execute_result"
    }
   ],
   "source": [
    "v_media"
   ]
  },
  {
   "cell_type": "markdown",
   "metadata": {},
   "source": [
    "### Depuração\n",
    "\n",
    "Há três tipos de erros que podem ocorrer em um programa: erros de sintaxe, erros de tempo de execução e erros semânticos. É útil distinguir entre eles para rastreá-los mais rapidamente.\n",
    "\n",
    "**Sintaxe**\n",
    "\n",
    "A sintaxe refere-se à estrutura de um programa e suas respectivas regras.\n",
    "\n",
    "**Tempo de execução**\n",
    "\n",
    "O segundo tipo de erro é o erro de tempo de execução, assim chamado porque o erro não aparece até que o programa seja executado. Esses erros também se chamam de exceções porque normalmente indicam que algo excepcional (e ruim) aconteceu.\n",
    "\n",
    "**Erro semântico**\n",
    "\n",
    "O terceiro tipo do erro é “semântico”, ou seja, relacionado ao significado. Se houver um erro semântico no seu programa, ele será executado sem gerar mensagens de erro, mas não vai fazer a coisa certa. Vai fazer algo diferente\n"
   ]
  },
  {
   "cell_type": "code",
   "execution_count": 22,
   "metadata": {},
   "outputs": [
    {
     "ename": "SyntaxError",
     "evalue": "unexpected EOF while parsing (<ipython-input-22-9a28414fe89f>, line 1)",
     "output_type": "error",
     "traceback": [
      "\u001b[1;36m  File \u001b[1;32m\"<ipython-input-22-9a28414fe89f>\"\u001b[1;36m, line \u001b[1;32m1\u001b[0m\n\u001b[1;33m    (1+2\u001b[0m\n\u001b[1;37m        ^\u001b[0m\n\u001b[1;31mSyntaxError\u001b[0m\u001b[1;31m:\u001b[0m unexpected EOF while parsing\n"
     ]
    }
   ],
   "source": [
    "(1+2"
   ]
  },
  {
   "cell_type": "code",
   "execution_count": 23,
   "metadata": {},
   "outputs": [
    {
     "data": {
      "text/plain": [
       "3"
      ]
     },
     "execution_count": 23,
     "metadata": {},
     "output_type": "execute_result"
    }
   ],
   "source": [
    "(1+2)"
   ]
  },
  {
   "cell_type": "markdown",
   "metadata": {},
   "source": [
    "### Referências\n",
    "\n",
    "RAMALHO, Luciano. Fluent python: Clear, concise, and effective programming. \" O'Reilly Media, Inc.\", 2015.\n",
    "\n",
    "Tradução do livro Pense em Python (2ª ed.), de Allen B. Downey\n"
   ]
  }
 ],
 "metadata": {
  "kernelspec": {
   "display_name": "Python 3",
   "language": "python",
   "name": "python3"
  },
  "language_info": {
   "codemirror_mode": {
    "name": "ipython",
    "version": 3
   },
   "file_extension": ".py",
   "mimetype": "text/x-python",
   "name": "python",
   "nbconvert_exporter": "python",
   "pygments_lexer": "ipython3",
   "version": "3.8.8"
  }
 },
 "nbformat": 4,
 "nbformat_minor": 2
}
